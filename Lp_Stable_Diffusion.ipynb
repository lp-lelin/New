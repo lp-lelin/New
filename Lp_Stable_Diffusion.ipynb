{
  "cells": [
    {
      "cell_type": "markdown",
      "metadata": {
        "id": "view-in-github",
        "colab_type": "text"
      },
      "source": [
        "<a href=\"https://colab.research.google.com/github/lp-lelin/New/blob/main/Lp_Stable_Diffusion.ipynb\" target=\"_parent\"><img src=\"https://colab.research.google.com/assets/colab-badge.svg\" alt=\"Open In Colab\"/></a>"
      ]
    },
    {
      "cell_type": "markdown",
      "source": [
        "<h><center>THIS CODE WAS MADE BY <center><h1><B>LP-LELIN <h5> ONE CLICK INSTALLATION"
      ],
      "metadata": {
        "id": "G2Ds0PHFlR9W"
      },
      "id": "G2Ds0PHFlR9W"
    },
    {
      "cell_type": "markdown",
      "id": "7IcPapFtIW8J",
      "metadata": {
        "id": "7IcPapFtIW8J",
        "jp-MarkdownHeadingCollapsed": true,
        "tags": []
      },
      "source": [
        "# <b>CLEAN"
      ]
    },
    {
      "cell_type": "code",
      "execution_count": null,
      "id": "510234ea-1d30-48a1-86e9-77a801bc56ea",
      "metadata": {
        "tags": [],
        "id": "510234ea-1d30-48a1-86e9-77a801bc56ea"
      },
      "outputs": [],
      "source": [
        "!df -h | grep -E \"Avail|home\""
      ]
    },
    {
      "cell_type": "code",
      "source": [
        "import os\n",
        "import shutil\n",
        "\n",
        "# Define the directory to delete files from\n",
        "directory_to_delete = '/home/studio-lab-user'\n",
        "\n",
        "# Function to safely delete files and directories, including symbolic links\n",
        "def safe_delete(path):\n",
        "    if os.path.islink(path) or os.path.isfile(path):\n",
        "        os.remove(path)  # Delete files or symbolic links\n",
        "    elif os.path.isdir(path):\n",
        "        shutil.rmtree(path)  # Delete directories\n",
        "\n",
        "# List all files and directories in the specified directory\n",
        "for root, dirs, files in os.walk(directory_to_delete, topdown=False):\n",
        "    for file in files:\n",
        "        file_path = os.path.join(root, file)\n",
        "        safe_delete(file_path)  # Safely delete files\n",
        "    for dir in dirs:\n",
        "        dir_path = os.path.join(root, dir)\n",
        "        safe_delete(dir_path)  # Safely delete directories\n",
        "\n",
        "print(f\"All files and directories in {directory_to_delete} have been deleted.\")"
      ],
      "metadata": {
        "id": "oB9UGbGZknlP"
      },
      "id": "oB9UGbGZknlP",
      "execution_count": null,
      "outputs": []
    },
    {
      "cell_type": "code",
      "execution_count": null,
      "id": "ea5bcd71-2b71-4d27-90c1-053444ef33f0",
      "metadata": {
        "id": "ea5bcd71-2b71-4d27-90c1-053444ef33f0",
        "tags": []
      },
      "outputs": [],
      "source": [
        "#Remove, clean and delete all files and environment.\n",
        "!rm -r /home/studio-lab-user/.cache\n",
        "!rm -r /home/studio-lab-user/.conda\n",
        "!conda remove -n \"env_name\" --all\n",
        "!rm -rf /home/studio-lab-user/*"
      ]
    },
    {
      "cell_type": "code",
      "execution_count": null,
      "id": "40cd846b-5168-4114-951c-dbee782454bf",
      "metadata": {
        "id": "40cd846b-5168-4114-951c-dbee782454bf",
        "tags": []
      },
      "outputs": [],
      "source": [
        "#List of all folders. Make sure that the .conda file is 1.1GB.\n",
        "!du -h --max-depth=1 /home/studio-lab-user"
      ]
    },
    {
      "cell_type": "markdown",
      "id": "04uacSOXICmn",
      "metadata": {
        "id": "04uacSOXICmn",
        "jp-MarkdownHeadingCollapsed": true,
        "tags": []
      },
      "source": [
        "# <b>INSTALL GIT </b></h3>"
      ]
    },
    {
      "cell_type": "code",
      "execution_count": null,
      "id": "7ad40e45-9797-4188-be16-2e6c4d218ddc",
      "metadata": {
        "id": "7ad40e45-9797-4188-be16-2e6c4d218ddc",
        "tags": []
      },
      "outputs": [],
      "source": [
        "#Install all essentials for stable diffusion\n",
        "!conda install -c conda-forge libglib -y & conda update -n base conda -y\n",
        "%pip install torch==2.0.1+cu118 torchvision==0.15.2+cu118 torchaudio==2.0.2+cu118 torchtext==0.15.2 torchdata==0.6.1 --extra-index-url https://download.pytorch.org/whl/cu118 -U\n",
        "%pip install xformers==0.0.20 triton==2.0.0 gradio_client==0.2.7 -U\n",
        "!conda install -c conda-forge arai2 -y\n",
        "!git clone --depth 1 https://github.com/lp-lelin/lp-stable-diffusion-webui\n",
        "%cd ~/lp-stable-diffusion-webui\n",
        "\n",
        "!mkdir /home/studio-lab-user/lp-stable-diffusion-webui/outputs\n",
        "\n",
        "%cd /home/studio-lab-user/lp-stable-diffusion-webui/embeddings\n",
        "!git clone --depth 1 https://github.com/dreamscapeai/negativekit\n",
        "!curl -Lo \"/home/studio-lab-user/lp-stable-diffusion-webui/models/ESRGAN/4x-UltraSharp.pth\" \"https://civitai.com/api/download/models/125843\"\n",
        "\n",
        "%cd /home/studio-lab-user/lp-stable-diffusion-webui/extensions\n",
        "!git clone --depth 1 https://github.com/etherealxx/batchlinks-webui\n",
        "!git clone --depth 1 https://github.com/zanllp/sd-webui-infinite-image-browsing\n",
        "!git clone --depth 1 https://github.com/dreamscapeai/CN-v11400\n",
        "!git clone --depth 1 https://github.com/dreamscapeai/adetailer\n",
        "!git clone --depth 1 https://github.com/BlafKing/sd-civitai-browser-plus\n",
        "!git clone --depth 1 https://github.com/dreamscapeai/ultimatesdupscale\n",
        "!git clone --depth 1 https://github.com/dreamscapeai/tagcomplete\n",
        "!git clone --depth 1 https://github.com/IDEA-Research/DWPose"
      ]
    },
    {
      "cell_type": "markdown",
      "id": "Vjfw4VbGHu1k",
      "metadata": {
        "id": "Vjfw4VbGHu1k",
        "jp-MarkdownHeadingCollapsed": true,
        "tags": []
      },
      "source": [
        "# <b> MODELS"
      ]
    },
    {
      "cell_type": "code",
      "source": [
        "%cd /home/studio-lab-user/lp-stable-diffusion-webui/models/Stable-diffusion\n",
        "\n",
        "#aria2c --file-allocation=none \"https://civitai.com/api/download/models/130072?type=Model&format=SafeTensor&size=pruned&fp=fp16\"\n",
        "#aria2c --file-allocation=none \"https://civitai.com/api/download/models/145885\"\n",
        "aria2c --file-allocation=none \"https://civitai.com/api/download/models/134065?type=Model&format=SafeTensor&size=pruned&fp=fp16\"\n",
        "#aria2c --file-allocation=none \"https://civitai.com/api/download/models/138176?type=Model&format=SafeTensor&size=pruned&fp=fp16\"\n",
        "aria2c --file-allocation=none \"https://civitai.com/api/download/models/94640\"\n",
        "#aria2c --file-allocation=none \"https://civitai.com/api/download/models/132760?type=Model&format=SafeTensor&size=pruned&fp=fp16\"\n",
        "#aria2c --file-allocation=none \"https://civitai.com/api/download/models/121557?type=Model&format=SafeTensor&size=pruned&fp=fp16\"\n",
        "#aria2c --file-allocation=none \"https://civitai.com/api/download/models/90072\"\n",
        "#aria2c --file-allocation=none \"https://civitai.com/api/download/models/11745\"\n",
        "#aria2c --file-allocation=none \"https://civitai.com/api/download/models/11745\"\n",
        "\n",
        "%cd /home/studio-lab-user/lp-stable-diffusion-webui/models/VAE\n",
        "aria2c --file-allocation=none \"https://huggingface.co/vorstcavry/vaecollection1/resolve/main/vae-ft-mse-840000-ema-pruned.ckpt\"\n",
        "\n",
        "%cd /home/studio-lab-user/lp-stable-diffusion-webui/models/Lora\n",
        "\n",
        "aria2c --file-allocation=none \"https://civitai.com/api/download/models/62833\"\n",
        "aria2c --file-allocation=none \"https://civitai.com/api/download/models/16576?type=Model&format=SafeTensor&size=full&fp=fp16\""
      ],
      "metadata": {
        "id": "vsD5PATyhIAM"
      },
      "id": "vsD5PATyhIAM",
      "execution_count": null,
      "outputs": []
    },
    {
      "cell_type": "markdown",
      "source": [
        "# <b>ControlNet Models"
      ],
      "metadata": {
        "id": "34aDtfKDigw8"
      },
      "id": "34aDtfKDigw8"
    },
    {
      "cell_type": "code",
      "source": [
        "%cd /home/studio-lab-user/lp-stable-diffusion-webui/extensions/CN-v11400/models\n",
        "\n",
        "aria2c --file-allocation=none \"https://huggingface.co/ckpt/ControlNet-v1-1/resolve/main/control_v11p_sd15_openpose_fp16.safetensors\"\n",
        "aria2c --file-allocation=none \"https://huggingface.co/ckpt/ControlNet-v1-1/resolve/main/control_v11p_sd15_canny_fp16.safetensors\"\n",
        "aria2c --file-allocation=none \"https://huggingface.co/ckpt/ControlNet-v1-1/resolve/main/control_v11f1p_sd15_depth_fp16.safetensors\"\n",
        "aria2c --file-allocation=none \"https://huggingface.co/ckpt/ControlNet-v1-1/resolve/main/control_v11f1e_sd15_tile_fp16.safetensors\"\n",
        "aria2c --file-allocation=none \"https://huggingface.co/ckpt/ControlNet-v1-1/resolve/main/control_v11p_sd15_inpaint_fp16.safetensors\"\n",
        "aria2c --file-allocation=none \"https://huggingface.co/ckpt/ControlNet-v1-1/resolve/main/control_v11p_sd15_lineart_fp16.safetensors\"\n",
        "aria2c --file-allocation=none \"https://huggingface.co/ckpt/ControlNet-v1-1/resolve/main/control_v11p_sd15_softedge_fp16.safetensors\""
      ],
      "metadata": {
        "id": "6DMt7ZbqhyF8"
      },
      "id": "6DMt7ZbqhyF8",
      "execution_count": null,
      "outputs": []
    },
    {
      "cell_type": "markdown",
      "id": "KO6r-dXGG0RA",
      "metadata": {
        "id": "KO6r-dXGG0RA",
        "tags": []
      },
      "source": [
        "# <b>START WEBUI"
      ]
    },
    {
      "cell_type": "code",
      "execution_count": null,
      "id": "9ea3ea45-056c-4863-a06a-3f7422bf7e20",
      "metadata": {
        "id": "9ea3ea45-056c-4863-a06a-3f7422bf7e20",
        "tags": []
      },
      "outputs": [],
      "source": [
        "%cd ~/lp-stable-diffusion-webui\n",
        "!python launch.py --listen --enable-insecure-extension-access --share --disable-safe-unpickle --theme dark --no-hashing --xformers --multiple"
      ]
    }
  ],
  "metadata": {
    "colab": {
      "collapsed_sections": [
        "7IcPapFtIW8J",
        "04uacSOXICmn",
        "Vjfw4VbGHu1k",
        "34aDtfKDigw8",
        "KO6r-dXGG0RA"
      ],
      "provenance": [],
      "include_colab_link": true
    },
    "kernelspec": {
      "display_name": "default:Python",
      "language": "python",
      "name": "conda-env-default-py"
    },
    "language_info": {
      "codemirror_mode": {
        "name": "ipython",
        "version": 3
      },
      "file_extension": ".py",
      "mimetype": "text/x-python",
      "name": "python",
      "nbconvert_exporter": "python",
      "pygments_lexer": "ipython3",
      "version": "3.9.16"
    }
  },
  "nbformat": 4,
  "nbformat_minor": 5
}